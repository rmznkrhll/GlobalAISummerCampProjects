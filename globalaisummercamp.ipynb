{
 "cells": [
  {
   "cell_type": "code",
   "execution_count": 200,
   "metadata": {
    "executionInfo": {
     "elapsed": 208,
     "status": "ok",
     "timestamp": 1661776146985,
     "user": {
      "displayName": "Asena Kucukali",
      "userId": "11646314492033849736"
     },
     "user_tz": -180
    },
    "id": "93XmWfF6j5sk"
   },
   "outputs": [],
   "source": [
    "import pandas as pd\n",
    "import numpy as np\n",
    "import seaborn as sns\n",
    "import matplotlib.pyplot as plt\n",
    "from sklearn.compose import make_column_transformer\n",
    "from sklearn.pipeline import make_pipeline\n",
    "from sklearn import preprocessing\n",
    "from sklearn.model_selection import train_test_split,GridSearchCV\n",
    "from sklearn.metrics import r2_score \n",
    "from sklearn.metrics import r2_score, mean_absolute_error, mean_squared_error\n",
    "from sklearn.linear_model import LinearRegression\n",
    "from sklearn.linear_model import Ridge\n",
    "from sklearn.linear_model import Lasso\n",
    "from sklearn.linear_model import ElasticNet\n",
    "from sklearn.ensemble import RandomForestRegressor\n",
    "from sklearn.tree import DecisionTreeRegressor\n",
    "from sklearn.neighbors import KNeighborsRegressor\n",
    "from sklearn.preprocessing import MinMaxScaler \n"
   ]
  },
  {
   "cell_type": "code",
   "execution_count": 201,
   "metadata": {
    "executionInfo": {
     "elapsed": 4,
     "status": "ok",
     "timestamp": 1661776147217,
     "user": {
      "displayName": "Asena Kucukali",
      "userId": "11646314492033849736"
     },
     "user_tz": -180
    },
    "id": "3F4zjiDP7uMs"
   },
   "outputs": [],
   "source": [
    "#Veri setimizi import ediyoruz\n",
    "data = pd.read_csv(\"/content/insurance.csv\")"
   ]
  },
  {
   "cell_type": "code",
   "execution_count": 202,
   "metadata": {
    "colab": {
     "base_uri": "https://localhost:8080/",
     "height": 206
    },
    "executionInfo": {
     "elapsed": 307,
     "status": "ok",
     "timestamp": 1661776147520,
     "user": {
      "displayName": "Asena Kucukali",
      "userId": "11646314492033849736"
     },
     "user_tz": -180
    },
    "id": "R-XRcGkp_k7r",
    "outputId": "76a6142d-eb5b-4ba3-dec4-6309cad1d4ce"
   },
   "outputs": [
    {
     "data": {
      "text/html": [
       "\n",
       "  <div id=\"df-759030d6-93f0-4cf0-a586-f0c4ea8e6e8d\">\n",
       "    <div class=\"colab-df-container\">\n",
       "      <div>\n",
       "<style scoped>\n",
       "    .dataframe tbody tr th:only-of-type {\n",
       "        vertical-align: middle;\n",
       "    }\n",
       "\n",
       "    .dataframe tbody tr th {\n",
       "        vertical-align: top;\n",
       "    }\n",
       "\n",
       "    .dataframe thead th {\n",
       "        text-align: right;\n",
       "    }\n",
       "</style>\n",
       "<table border=\"1\" class=\"dataframe\">\n",
       "  <thead>\n",
       "    <tr style=\"text-align: right;\">\n",
       "      <th></th>\n",
       "      <th>age</th>\n",
       "      <th>sex</th>\n",
       "      <th>bmi</th>\n",
       "      <th>children</th>\n",
       "      <th>smoker</th>\n",
       "      <th>region</th>\n",
       "      <th>charges</th>\n",
       "    </tr>\n",
       "  </thead>\n",
       "  <tbody>\n",
       "    <tr>\n",
       "      <th>0</th>\n",
       "      <td>19</td>\n",
       "      <td>female</td>\n",
       "      <td>27.900</td>\n",
       "      <td>0</td>\n",
       "      <td>yes</td>\n",
       "      <td>southwest</td>\n",
       "      <td>16884.92400</td>\n",
       "    </tr>\n",
       "    <tr>\n",
       "      <th>1</th>\n",
       "      <td>18</td>\n",
       "      <td>male</td>\n",
       "      <td>33.770</td>\n",
       "      <td>1</td>\n",
       "      <td>no</td>\n",
       "      <td>southeast</td>\n",
       "      <td>1725.55230</td>\n",
       "    </tr>\n",
       "    <tr>\n",
       "      <th>2</th>\n",
       "      <td>28</td>\n",
       "      <td>male</td>\n",
       "      <td>33.000</td>\n",
       "      <td>3</td>\n",
       "      <td>no</td>\n",
       "      <td>southeast</td>\n",
       "      <td>4449.46200</td>\n",
       "    </tr>\n",
       "    <tr>\n",
       "      <th>3</th>\n",
       "      <td>33</td>\n",
       "      <td>male</td>\n",
       "      <td>22.705</td>\n",
       "      <td>0</td>\n",
       "      <td>no</td>\n",
       "      <td>northwest</td>\n",
       "      <td>21984.47061</td>\n",
       "    </tr>\n",
       "    <tr>\n",
       "      <th>4</th>\n",
       "      <td>32</td>\n",
       "      <td>male</td>\n",
       "      <td>28.880</td>\n",
       "      <td>0</td>\n",
       "      <td>no</td>\n",
       "      <td>northwest</td>\n",
       "      <td>3866.85520</td>\n",
       "    </tr>\n",
       "  </tbody>\n",
       "</table>\n",
       "</div>\n",
       "      <button class=\"colab-df-convert\" onclick=\"convertToInteractive('df-759030d6-93f0-4cf0-a586-f0c4ea8e6e8d')\"\n",
       "              title=\"Convert this dataframe to an interactive table.\"\n",
       "              style=\"display:none;\">\n",
       "        \n",
       "  <svg xmlns=\"http://www.w3.org/2000/svg\" height=\"24px\"viewBox=\"0 0 24 24\"\n",
       "       width=\"24px\">\n",
       "    <path d=\"M0 0h24v24H0V0z\" fill=\"none\"/>\n",
       "    <path d=\"M18.56 5.44l.94 2.06.94-2.06 2.06-.94-2.06-.94-.94-2.06-.94 2.06-2.06.94zm-11 1L8.5 8.5l.94-2.06 2.06-.94-2.06-.94L8.5 2.5l-.94 2.06-2.06.94zm10 10l.94 2.06.94-2.06 2.06-.94-2.06-.94-.94-2.06-.94 2.06-2.06.94z\"/><path d=\"M17.41 7.96l-1.37-1.37c-.4-.4-.92-.59-1.43-.59-.52 0-1.04.2-1.43.59L10.3 9.45l-7.72 7.72c-.78.78-.78 2.05 0 2.83L4 21.41c.39.39.9.59 1.41.59.51 0 1.02-.2 1.41-.59l7.78-7.78 2.81-2.81c.8-.78.8-2.07 0-2.86zM5.41 20L4 18.59l7.72-7.72 1.47 1.35L5.41 20z\"/>\n",
       "  </svg>\n",
       "      </button>\n",
       "      \n",
       "  <style>\n",
       "    .colab-df-container {\n",
       "      display:flex;\n",
       "      flex-wrap:wrap;\n",
       "      gap: 12px;\n",
       "    }\n",
       "\n",
       "    .colab-df-convert {\n",
       "      background-color: #E8F0FE;\n",
       "      border: none;\n",
       "      border-radius: 50%;\n",
       "      cursor: pointer;\n",
       "      display: none;\n",
       "      fill: #1967D2;\n",
       "      height: 32px;\n",
       "      padding: 0 0 0 0;\n",
       "      width: 32px;\n",
       "    }\n",
       "\n",
       "    .colab-df-convert:hover {\n",
       "      background-color: #E2EBFA;\n",
       "      box-shadow: 0px 1px 2px rgba(60, 64, 67, 0.3), 0px 1px 3px 1px rgba(60, 64, 67, 0.15);\n",
       "      fill: #174EA6;\n",
       "    }\n",
       "\n",
       "    [theme=dark] .colab-df-convert {\n",
       "      background-color: #3B4455;\n",
       "      fill: #D2E3FC;\n",
       "    }\n",
       "\n",
       "    [theme=dark] .colab-df-convert:hover {\n",
       "      background-color: #434B5C;\n",
       "      box-shadow: 0px 1px 3px 1px rgba(0, 0, 0, 0.15);\n",
       "      filter: drop-shadow(0px 1px 2px rgba(0, 0, 0, 0.3));\n",
       "      fill: #FFFFFF;\n",
       "    }\n",
       "  </style>\n",
       "\n",
       "      <script>\n",
       "        const buttonEl =\n",
       "          document.querySelector('#df-759030d6-93f0-4cf0-a586-f0c4ea8e6e8d button.colab-df-convert');\n",
       "        buttonEl.style.display =\n",
       "          google.colab.kernel.accessAllowed ? 'block' : 'none';\n",
       "\n",
       "        async function convertToInteractive(key) {\n",
       "          const element = document.querySelector('#df-759030d6-93f0-4cf0-a586-f0c4ea8e6e8d');\n",
       "          const dataTable =\n",
       "            await google.colab.kernel.invokeFunction('convertToInteractive',\n",
       "                                                     [key], {});\n",
       "          if (!dataTable) return;\n",
       "\n",
       "          const docLinkHtml = 'Like what you see? Visit the ' +\n",
       "            '<a target=\"_blank\" href=https://colab.research.google.com/notebooks/data_table.ipynb>data table notebook</a>'\n",
       "            + ' to learn more about interactive tables.';\n",
       "          element.innerHTML = '';\n",
       "          dataTable['output_type'] = 'display_data';\n",
       "          await google.colab.output.renderOutput(dataTable, element);\n",
       "          const docLink = document.createElement('div');\n",
       "          docLink.innerHTML = docLinkHtml;\n",
       "          element.appendChild(docLink);\n",
       "        }\n",
       "      </script>\n",
       "    </div>\n",
       "  </div>\n",
       "  "
      ],
      "text/plain": [
       "   age     sex     bmi  children smoker     region      charges\n",
       "0   19  female  27.900         0    yes  southwest  16884.92400\n",
       "1   18    male  33.770         1     no  southeast   1725.55230\n",
       "2   28    male  33.000         3     no  southeast   4449.46200\n",
       "3   33    male  22.705         0     no  northwest  21984.47061\n",
       "4   32    male  28.880         0     no  northwest   3866.85520"
      ]
     },
     "execution_count": 202,
     "metadata": {},
     "output_type": "execute_result"
    }
   ],
   "source": [
    "#Veri setinin ilk beş satırını bastırıyoruz.\n",
    "data.head()"
   ]
  },
  {
   "cell_type": "code",
   "execution_count": 203,
   "metadata": {
    "colab": {
     "base_uri": "https://localhost:8080/"
    },
    "executionInfo": {
     "elapsed": 5,
     "status": "ok",
     "timestamp": 1661776147521,
     "user": {
      "displayName": "Asena Kucukali",
      "userId": "11646314492033849736"
     },
     "user_tz": -180
    },
    "id": "JjnG0N2sktlW",
    "outputId": "0b3ff90f-63f3-4b7f-b7fc-cba12bce416d"
   },
   "outputs": [
    {
     "name": "stdout",
     "output_type": "stream",
     "text": [
      "<class 'pandas.core.frame.DataFrame'>\n",
      "RangeIndex: 1338 entries, 0 to 1337\n",
      "Data columns (total 7 columns):\n",
      " #   Column    Non-Null Count  Dtype  \n",
      "---  ------    --------------  -----  \n",
      " 0   age       1338 non-null   int64  \n",
      " 1   sex       1338 non-null   object \n",
      " 2   bmi       1338 non-null   float64\n",
      " 3   children  1338 non-null   int64  \n",
      " 4   smoker    1338 non-null   object \n",
      " 5   region    1338 non-null   object \n",
      " 6   charges   1338 non-null   float64\n",
      "dtypes: float64(2), int64(2), object(3)\n",
      "memory usage: 73.3+ KB\n"
     ]
    }
   ],
   "source": [
    "#Veri setini kontrol ediyoruz\n",
    "data.info()"
   ]
  },
  {
   "cell_type": "code",
   "execution_count": 204,
   "metadata": {
    "executionInfo": {
     "elapsed": 5,
     "status": "ok",
     "timestamp": 1661776147523,
     "user": {
      "displayName": "Asena Kucukali",
      "userId": "11646314492033849736"
     },
     "user_tz": -180
    },
    "id": "B7jRw99-C-1V"
   },
   "outputs": [],
   "source": [
    "#Label encoder ile kategorik değişkenlerimizi numerik olarak değiştririyoruz\n",
    "le = preprocessing.LabelEncoder()\n",
    "sex=le.fit_transform(data[\"sex\"])\n",
    "data[\"sex\"]=sex\n",
    "smoker=le.fit_transform(data[\"smoker\"])\n",
    "data[\"smoker\"]=smoker\n",
    "region=le.fit_transform(data[\"region\"])\n",
    "data[\"region\"]=region"
   ]
  },
  {
   "cell_type": "code",
   "execution_count": 205,
   "metadata": {
    "executionInfo": {
     "elapsed": 5,
     "status": "ok",
     "timestamp": 1661776147523,
     "user": {
      "displayName": "Asena Kucukali",
      "userId": "11646314492033849736"
     },
     "user_tz": -180
    },
    "id": "ZOCIwiLRgUsS"
   },
   "outputs": [],
   "source": [
    "#Normalizasyon yapıyoruz\n",
    "scale_cols = [\"age\", \"bmi\", \"children\"]\n",
    "sc= MinMaxScaler()\n",
    "train = sc.fit_transform(X_train[scale_cols])\n",
    "test = sc.transform(X_test[scale_cols])\n",
    "X_train[scale_cols] = train\n",
    "X_test[scale_cols] = test"
   ]
  },
  {
   "cell_type": "code",
   "execution_count": 206,
   "metadata": {
    "colab": {
     "base_uri": "https://localhost:8080/",
     "height": 300
    },
    "executionInfo": {
     "elapsed": 400,
     "status": "ok",
     "timestamp": 1661776147917,
     "user": {
      "displayName": "Asena Kucukali",
      "userId": "11646314492033849736"
     },
     "user_tz": -180
    },
    "id": "i7FG0UR6_k-O",
    "outputId": "4a5ddbfd-0cf0-4d6e-9f62-45f2d5bc9fa0"
   },
   "outputs": [
    {
     "data": {
      "image/png": "[encoded data removed]",
      "text/plain": [
       "<Figure size 432x288 with 2 Axes>"
      ]
     },
     "metadata": {
      "needs_background": "light"
     },
     "output_type": "display_data"
    }
   ],
   "source": [
    "#Veri setimizdeki değişkenlerin birbiriyle olan ilişkisinin heatmap grafiği\n",
    "sns.heatmap(data.corr());"
   ]
  },
  {
   "cell_type": "code",
   "execution_count": 207,
   "metadata": {
    "colab": {
     "base_uri": "https://localhost:8080/",
     "height": 387
    },
    "executionInfo": {
     "elapsed": 428,
     "status": "ok",
     "timestamp": 1661776148338,
     "user": {
      "displayName": "Asena Kucukali",
      "userId": "11646314492033849736"
     },
     "user_tz": -180
    },
    "id": "g4si245vGiNe",
    "outputId": "187e5db0-ddc0-4aed-8a08-5b72fc6d9ddd"
   },
   "outputs": [
    {
     "data": {
      "text/plain": [
       "<seaborn.axisgrid.FacetGrid at 0x7f2bb4b47610>"
      ]
     },
     "execution_count": 207,
     "metadata": {},
     "output_type": "execute_result"
    },
    {
     "data": {
      "image/png": "[encoded data removed]",
      "text/plain": [
       "<Figure size 360x360 with 1 Axes>"
      ]
     },
     "metadata": {
      "needs_background": "light"
     },
     "output_type": "display_data"
    }
   ],
   "source": [
    "#bmi & charges arasındaki ilişki\n",
    "sns.lmplot(x = 'age', y = 'bmi', fit_reg = False,  data = data)"
   ]
  },
  {
   "cell_type": "code",
   "execution_count": 208,
   "metadata": {
    "colab": {
     "base_uri": "https://localhost:8080/",
     "height": 283
    },
    "executionInfo": {
     "elapsed": 2527,
     "status": "ok",
     "timestamp": 1661776150861,
     "user": {
      "displayName": "Asena Kucukali",
      "userId": "11646314492033849736"
     },
     "user_tz": -180
    },
    "id": "7gyO5KY7_lBG",
    "outputId": "fd079447-d31e-40b0-e077-26ad7cf80f27"
   },
   "outputs": [
    {
     "name": "stdout",
     "output_type": "stream",
     "text": [
      "0.7872514304984779\n"
     ]
    },
    {
     "data": {
      "image/png": "[encoded data removed]",
      "text/plain": [
       "<Figure size 432x288 with 1 Axes>"
      ]
     },
     "metadata": {
      "needs_background": "light"
     },
     "output_type": "display_data"
    }
   ],
   "source": [
    "#\"smoker\"&\"charges\" arasındaki ilişki\n",
    "print(data['smoker'].corr(data['charges']))\n",
    "plt.bar(data[\"smoker\"],data[\"charges\"])\n",
    "plt.show()"
   ]
  },
  {
   "cell_type": "code",
   "execution_count": 209,
   "metadata": {
    "colab": {
     "base_uri": "https://localhost:8080/",
     "height": 404
    },
    "executionInfo": {
     "elapsed": 346,
     "status": "ok",
     "timestamp": 1661776151205,
     "user": {
      "displayName": "Asena Kucukali",
      "userId": "11646314492033849736"
     },
     "user_tz": -180
    },
    "id": "BC5Zf-IyivyQ",
    "outputId": "c5c6f50f-3fd8-48de-a0c5-23eefec2ce17"
   },
   "outputs": [
    {
     "data": {
      "image/png": "[encoded data removed]",
      "text/plain": [
       "<Figure size 576x432 with 1 Axes>"
      ]
     },
     "metadata": {
      "needs_background": "light"
     },
     "output_type": "display_data"
    }
   ],
   "source": [
    "#Reigonlardaki children dağılımı\n",
    "fig, ax=plt.subplots(figsize=(8,6))\n",
    "sns.countplot(x='region', data=data, hue='children')\n",
    "ax.set_ylim(0,500)\n",
    "plt.title(\"Region'lardaki children oranı\")\n",
    "plt.show()"
   ]
  },
  {
   "cell_type": "code",
   "execution_count": 210,
   "metadata": {
    "colab": {
     "base_uri": "https://localhost:8080/",
     "height": 404
    },
    "executionInfo": {
     "elapsed": 334,
     "status": "ok",
     "timestamp": 1661776151536,
     "user": {
      "displayName": "Asena Kucukali",
      "userId": "11646314492033849736"
     },
     "user_tz": -180
    },
    "id": "qRaHXOUajbWZ",
    "outputId": "93f0ead7-6738-4570-d448-7ab0b57b949a"
   },
   "outputs": [
    {
     "data": {
      "image/png": "[encoded data removed]",
      "text/plain": [
       "<Figure size 576x432 with 1 Axes>"
      ]
     },
     "metadata": {
      "needs_background": "light"
     },
     "output_type": "display_data"
    }
   ],
   "source": [
    "#Region'lardaki smoker ve non-smoker oranı\n",
    "fig, ax=plt.subplots(figsize=(8,6))\n",
    "sns.countplot(x='region', data=data, hue='smoker')\n",
    "ax.set_ylim(0,500)\n",
    "plt.title(\"Region'lardaki smoker ve non-smoker oranı\")\n",
    "plt.show()"
   ]
  },
  {
   "cell_type": "code",
   "execution_count": 211,
   "metadata": {
    "executionInfo": {
     "elapsed": 6,
     "status": "ok",
     "timestamp": 1661776151537,
     "user": {
      "displayName": "Asena Kucukali",
      "userId": "11646314492033849736"
     },
     "user_tz": -180
    },
    "id": "m4bAQdrw_lDm"
   },
   "outputs": [],
   "source": [
    "#Charges sütununu veri setimizden çıkartıyoruz\n",
    "X=data.drop(\"charges\",axis=1)\n",
    "y=data[\"charges\"]"
   ]
  },
  {
   "cell_type": "code",
   "execution_count": 212,
   "metadata": {
    "executionInfo": {
     "elapsed": 5,
     "status": "ok",
     "timestamp": 1661776151537,
     "user": {
      "displayName": "Asena Kucukali",
      "userId": "11646314492033849736"
     },
     "user_tz": -180
    },
    "id": "mOnhCAkG_lF1"
   },
   "outputs": [],
   "source": [
    "#Veri setini train-test şeklinde %30-%70 oranında ayırıyoruz\n",
    "X_train,X_test,y_train,y_test=train_test_split(X,y,test_size=0.3,random_state=42)  "
   ]
  },
  {
   "cell_type": "code",
   "execution_count": 213,
   "metadata": {
    "colab": {
     "base_uri": "https://localhost:8080/"
    },
    "executionInfo": {
     "elapsed": 241,
     "status": "ok",
     "timestamp": 1661776151773,
     "user": {
      "displayName": "Asena Kucukali",
      "userId": "11646314492033849736"
     },
     "user_tz": -180
    },
    "id": "c5sND0Bx_lIL",
    "outputId": "7b3496ce-0914-41ce-8017-61f148f4ad8d"
   },
   "outputs": [
    {
     "name": "stdout",
     "output_type": "stream",
     "text": [
      "Accuracy on Traing set:  0.9762983642883043\n",
      "Accuracy on Testing set:  0.8566306384144243\n"
     ]
    }
   ],
   "source": [
    "#Random Forest,Linear,Lasso,Ridge ve KNN Neighbours Regresyon Modelleri deneme ve sonuçları karşılaştırma\n",
    "#Random Forest Regresyon Modeli\n",
    "ran=RandomForestRegressor()\n",
    "ran.fit(X_train, y_train)\n",
    "y_pred=ran.predict(X_test)\n",
    "\n",
    "print(\"Accuracy on Traing set: \",ran.score(X_train,y_train))\n",
    "print(\"Accuracy on Testing set: \",ran.score(X_test,y_test))\n",
    "rf_r2=r2_score(y_test, y_pred)\n",
    "rf_rmse=np.sqrt(mean_squared_error(y_test, y_pred))"
   ]
  },
  {
   "cell_type": "code",
   "execution_count": 214,
   "metadata": {
    "colab": {
     "base_uri": "https://localhost:8080/"
    },
    "executionInfo": {
     "elapsed": 10,
     "status": "ok",
     "timestamp": 1661776151773,
     "user": {
      "displayName": "Asena Kucukali",
      "userId": "11646314492033849736"
     },
     "user_tz": -180
    },
    "id": "I3-SBSS4KTK9",
    "outputId": "47a8a7cf-257d-47cb-9835-850023f2e769"
   },
   "outputs": [
    {
     "name": "stdout",
     "output_type": "stream",
     "text": [
      "Accuracy on Traing set:  0.7422571320172101\n",
      "Accuracy on Testing set:  0.7694415927057693\n"
     ]
    }
   ],
   "source": [
    "#Linear Regresyon Modeli\n",
    "ln=LinearRegression()\n",
    "ln.fit(X_train, y_train)\n",
    "y_pred=ln.predict(X_test)\n",
    "lr_r2=r2_score(y_test, y_pred)\n",
    "lr_rmse=np.sqrt(mean_squared_error(y_test, y_pred))\n",
    "print(\"Accuracy on Traing set: \",ln.score(X_train,y_train))\n",
    "print(\"Accuracy on Testing set: \",ln.score(X_test,y_test))"
   ]
  },
  {
   "cell_type": "code",
   "execution_count": 215,
   "metadata": {
    "colab": {
     "base_uri": "https://localhost:8080/"
    },
    "executionInfo": {
     "elapsed": 6,
     "status": "ok",
     "timestamp": 1661776151773,
     "user": {
      "displayName": "Asena Kucukali",
      "userId": "11646314492033849736"
     },
     "user_tz": -180
    },
    "id": "aFiCoKIsKTOm",
    "outputId": "00ae0d5c-35ec-4586-e858-50f4d1a37e4a"
   },
   "outputs": [
    {
     "name": "stdout",
     "output_type": "stream",
     "text": [
      "Accuracy on Traing set:  0.7422570573296925\n",
      "Accuracy on Testing set:  0.7694413409990981\n"
     ]
    }
   ],
   "source": [
    "#Lasso Regresyon Modeli\n",
    "lasso=Lasso()\n",
    "lasso.fit(X_train, y_train)\n",
    "y_pred=lasso.predict(X_test)\n",
    "lasso_r2=r2_score(y_test, y_pred)\n",
    "lasso_rmse=np.sqrt(mean_squared_error(y_test, y_pred))\n",
    "print(\"Accuracy on Traing set: \",lasso.score(X_train,y_train))\n",
    "print(\"Accuracy on Testing set: \",lasso.score(X_test,y_test))"
   ]
  },
  {
   "cell_type": "code",
   "execution_count": 216,
   "metadata": {
    "colab": {
     "base_uri": "https://localhost:8080/"
    },
    "executionInfo": {
     "elapsed": 6,
     "status": "ok",
     "timestamp": 1661776151774,
     "user": {
      "displayName": "Asena Kucukali",
      "userId": "11646314492033849736"
     },
     "user_tz": -180
    },
    "id": "4oIlWvXEKTRW",
    "outputId": "73d6db8a-14a7-4da7-ac94-b4062a46726b"
   },
   "outputs": [
    {
     "name": "stdout",
     "output_type": "stream",
     "text": [
      "Accuracy on Traing set:  0.7422309925783954\n",
      "Accuracy on Testing set:  0.7692081844141472\n"
     ]
    }
   ],
   "source": [
    "#Ridge Regresyon Modeli\n",
    "ridge=Ridge()\n",
    "ridge.fit(X_train, y_train)\n",
    "y_pred=ridge.predict(X_test)\n",
    "rid_r2=r2_score(y_test, y_pred)\n",
    "rid_rmse=np.sqrt(mean_squared_error(y_test, y_pred))\n",
    "print(\"Accuracy on Traing set: \",ridge.score(X_train,y_train))\n",
    "print(\"Accuracy on Testing set: \",ridge.score(X_test,y_test))"
   ]
  },
  {
   "cell_type": "code",
   "execution_count": 217,
   "metadata": {
    "colab": {
     "base_uri": "https://localhost:8080/"
    },
    "executionInfo": {
     "elapsed": 5,
     "status": "ok",
     "timestamp": 1661776151774,
     "user": {
      "displayName": "Asena Kucukali",
      "userId": "11646314492033849736"
     },
     "user_tz": -180
    },
    "id": "tvxu9PsULNH9",
    "outputId": "7a2a6490-b193-443a-91d0-10245b115b66"
   },
   "outputs": [
    {
     "name": "stdout",
     "output_type": "stream",
     "text": [
      "Accuracy on Traing set:  0.3809547475749051\n",
      "Accuracy on Testing set:  0.12776147144717664\n"
     ]
    }
   ],
   "source": [
    "#KNN Neighbors Regresyon Modeli\n",
    "knn = KNeighborsRegressor()\n",
    "knn.fit(X_train, y_train)\n",
    "y_pred = knn.predict(X_test)\n",
    "knn_r2=r2_score(y_test, y_pred)\n",
    "knn_rmse=np.sqrt(mean_squared_error(y_test, y_pred))\n",
    "print(\"Accuracy on Traing set: \",knn.score(X_train,y_train))\n",
    "print(\"Accuracy on Testing set: \",knn.score(X_test,y_test))\n"
   ]
  },
  {
   "cell_type": "code",
   "execution_count": 218,
   "metadata": {
    "executionInfo": {
     "elapsed": 4,
     "status": "ok",
     "timestamp": 1661776151774,
     "user": {
      "displayName": "Asena Kucukali",
      "userId": "11646314492033849736"
     },
     "user_tz": -180
    },
    "id": "Nb3LWtVJLYs9"
   },
   "outputs": [],
   "source": [
    "#Modellerin r2 skorları ve mean squared error değerleri\n",
    "r2_scores = {\"RFRegressor\": rf_r2, \"LinearRegressor\": lr_r2, \"LassoRegressor\": lasso_r2, \"RidgeRegressor\": rid_r2,\"KNeighborsRegressor\": knn_r2}\n",
    "rmse_scores = {\"RFRegressor\": rf_rmse, \"LinearRegressor\": lr_rmse, \"LassoRegressor\": lasso_rmse, \"RidgeRegressor\": rid_rmse,\"KNeighborsRegressor\": knn_rmse}"
   ]
  },
  {
   "cell_type": "code",
   "execution_count": 219,
   "metadata": {
    "colab": {
     "base_uri": "https://localhost:8080/",
     "height": 333
    },
    "executionInfo": {
     "elapsed": 310,
     "status": "ok",
     "timestamp": 1661776152081,
     "user": {
      "displayName": "Asena Kucukali",
      "userId": "11646314492033849736"
     },
     "user_tz": -180
    },
    "id": "0yj3Ch1ydOWZ",
    "outputId": "81262416-7fe1-40d4-c788-e53c2c7b473f"
   },
   "outputs": [
    {
     "data": {
      "image/png": "[encoded data removed]",
      "text/plain": [
       "<Figure size 432x288 with 1 Axes>"
      ]
     },
     "metadata": {
      "needs_background": "light"
     },
     "output_type": "display_data"
    }
   ],
   "source": [
    "#Random Forest Regressor en yüksek R2 score degeri verdiginden dolayı onun seçilmesi daha doğrudur.\n",
    "ax = sns.barplot(x=list(r2_scores.keys()), y=list(r2_scores.values()))\n",
    "plt.xticks(rotation=30)\n",
    "plt.title(\"R2 Score\")\n",
    "plt.ylim((0, 1))\n",
    "plt.show()"
   ]
  },
  {
   "cell_type": "code",
   "execution_count": 220,
   "metadata": {
    "colab": {
     "base_uri": "https://localhost:8080/",
     "height": 1000
    },
    "executionInfo": {
     "elapsed": 556,
     "status": "ok",
     "timestamp": 1661776152634,
     "user": {
      "displayName": "Asena Kucukali",
      "userId": "11646314492033849736"
     },
     "user_tz": -180
    },
    "id": "X2UmytpQI3gj",
    "outputId": "03297888-4d0a-40da-f4e6-dfa2d9f84ae6"
   },
   "outputs": [
    {
     "name": "stdout",
     "output_type": "stream",
     "text": [
      "Actual Price: 6985.50695 | Predicted Price: 7094.280544599997\n",
      "Actual Price: 3238.4357 | Predicted Price: 3227.7427879999973\n",
      "Actual Price: 47269.854 | Predicted Price: 48973.46212460003\n",
      "Actual Price: 49577.6624 | Predicted Price: 48958.274116499946\n",
      "Actual Price: 4296.2712 | Predicted Price: 8755.074287699996\n",
      "Actual Price: 3171.6149 | Predicted Price: 3855.056589899996\n",
      "Actual Price: 1135.9407 | Predicted Price: 1156.5828250000013\n",
      "Actual Price: 5615.369 | Predicted Price: 5559.129954500002\n",
      "Actual Price: 9101.798 | Predicted Price: 8797.041460500006\n",
      "Actual Price: 6059.173 | Predicted Price: 6073.648772999997\n",
      "Actual Price: 1633.9618 | Predicted Price: 1645.631946999999\n",
      "Actual Price: 37607.5277 | Predicted Price: 43707.368835899986\n",
      "Actual Price: 18648.4217 | Predicted Price: 21993.81942030002\n",
      "Actual Price: 1241.565 | Predicted Price: 1253.992740000001\n",
      "Actual Price: 16232.847 | Predicted Price: 17897.777800600008\n",
      "Actual Price: 15828.82173 | Predicted Price: 7775.218463900003\n",
      "Actual Price: 4415.1588 | Predicted Price: 4470.603727499993\n",
      "Actual Price: 6474.013 | Predicted Price: 6461.012260999999\n",
      "Actual Price: 11436.73815 | Predicted Price: 12433.616053400006\n",
      "Actual Price: 11305.93455 | Predicted Price: 13165.622340699992\n",
      "Actual Price: 30063.58055 | Predicted Price: 24560.243189500015\n",
      "Actual Price: 10197.7722 | Predicted Price: 10690.135324900004\n",
      "Actual Price: 4544.2348 | Predicted Price: 4563.251500599994\n",
      "Actual Price: 3277.161 | Predicted Price: 3515.8063067000016\n",
      "Actual Price: 6770.1925 | Predicted Price: 6776.304019000007\n",
      "Actual Price: 7337.748 | Predicted Price: 8548.689408199996\n",
      "Actual Price: 10370.91255 | Predicted Price: 13713.947687600004\n",
      "Actual Price: 26926.5144 | Predicted Price: 26700.452951700034\n",
      "Actual Price: 10704.47 | Predicted Price: 10995.31754869999\n",
      "Actual Price: 34254.05335 | Predicted Price: 34237.92116230002\n",
      "Actual Price: 1880.487 | Predicted Price: 3815.438207000001\n",
      "Actual Price: 8615.3 | Predicted Price: 8796.770976500009\n",
      "Actual Price: 3292.52985 | Predicted Price: 5515.752811199999\n",
      "Actual Price: 3021.80915 | Predicted Price: 3312.2414477999996\n",
      "Actual Price: 14478.33015 | Predicted Price: 12508.52059650002\n",
      "Actual Price: 4747.0529 | Predicted Price: 4830.463022000004\n",
      "Actual Price: 17043.3414 | Predicted Price: 18491.468340100007\n",
      "Actual Price: 10959.33 | Predicted Price: 11039.341508999989\n",
      "Actual Price: 2741.948 | Predicted Price: 4507.305441099994\n",
      "Actual Price: 4357.04365 | Predicted Price: 4271.128575500002\n",
      "Actual Price: 22462.04375 | Predicted Price: 23867.6293702\n",
      "Actual Price: 4189.1131 | Predicted Price: 5853.395032900003\n",
      "Actual Price: 8283.6807 | Predicted Price: 9484.136319600002\n",
      "Actual Price: 24535.69855 | Predicted Price: 24396.949843000002\n",
      "Actual Price: 14283.4594 | Predicted Price: 14379.963105100023\n",
      "Actual Price: 1720.3537 | Predicted Price: 2829.8242826\n",
      "Actual Price: 47403.88 | Predicted Price: 47925.14112899992\n",
      "Actual Price: 8534.6718 | Predicted Price: 13998.594971800001\n",
      "Actual Price: 3732.6251 | Predicted Price: 6413.233491199997\n",
      "Actual Price: 5472.449 | Predicted Price: 5422.2562607000045\n",
      "Actual Price: 38344.566 | Predicted Price: 38300.27202290005\n",
      "Actual Price: 7147.4728 | Predicted Price: 7406.439420699994\n",
      "Actual Price: 7133.9025 | Predicted Price: 7493.642960600006\n",
      "Actual Price: 34828.654 | Predicted Price: 34963.91622730006\n",
      "Actual Price: 1515.3449 | Predicted Price: 2714.207220699999\n",
      "Actual Price: 9301.89355 | Predicted Price: 10675.199748900002\n",
      "Actual Price: 11931.12525 | Predicted Price: 12281.527298900013\n",
      "Actual Price: 1964.78 | Predicted Price: 4743.696286699997\n",
      "Actual Price: 1708.92575 | Predicted Price: 1755.695734000001\n",
      "Actual Price: 4340.4409 | Predicted Price: 4574.832457500002\n",
      "Actual Price: 5261.46945 | Predicted Price: 5791.015491599999\n",
      "Actual Price: 2710.82855 | Predicted Price: 3297.593808799998\n",
      "Actual Price: 62592.87309 | Predicted Price: 54611.19495549995\n",
      "Actual Price: 46718.16325 | Predicted Price: 47192.50866750009\n",
      "Actual Price: 3208.787 | Predicted Price: 5073.131388599996\n",
      "Actual Price: 37829.7242 | Predicted Price: 26661.410930500013\n",
      "Actual Price: 21259.37795 | Predicted Price: 22255.174528900046\n",
      "Actual Price: 2464.6188 | Predicted Price: 4460.986366099998\n",
      "Actual Price: 16115.3045 | Predicted Price: 16204.425279800022\n",
      "Actual Price: 21472.4788 | Predicted Price: 20910.69173549997\n",
      "Actual Price: 33900.653 | Predicted Price: 34096.024705499985\n",
      "Actual Price: 6875.961 | Predicted Price: 7139.154619800002\n",
      "Actual Price: 6940.90985 | Predicted Price: 6863.746057000003\n",
      "Actual Price: 4571.41305 | Predicted Price: 5184.823295899994\n",
      "Actual Price: 4536.259 | Predicted Price: 8261.011083400012\n",
      "Actual Price: 36397.576 | Predicted Price: 36135.00448469998\n",
      "Actual Price: 18765.87545 | Predicted Price: 18152.31178339997\n",
      "Actual Price: 11272.33139 | Predicted Price: 8609.299567399987\n",
      "Actual Price: 1731.677 | Predicted Price: 1718.5476920000003\n",
      "Actual Price: 1163.4627 | Predicted Price: 1193.2042930000023\n",
      "Actual Price: 19496.71917 | Predicted Price: 18542.44800969999\n",
      "Actual Price: 7201.70085 | Predicted Price: 7294.038005800006\n",
      "Actual Price: 5425.02335 | Predicted Price: 5767.951065899995\n",
      "Actual Price: 28101.33305 | Predicted Price: 28140.016468400016\n",
      "Actual Price: 12981.3457 | Predicted Price: 13108.958338000015\n",
      "Actual Price: 43896.3763 | Predicted Price: 45002.84957270005\n",
      "Actual Price: 4239.89265 | Predicted Price: 4905.783962200002\n",
      "Actual Price: 13143.33665 | Predicted Price: 13150.213507999988\n",
      "Actual Price: 7050.0213 | Predicted Price: 7119.371367800009\n",
      "Actual Price: 9377.9047 | Predicted Price: 9721.256557200002\n",
      "Actual Price: 22395.74424 | Predicted Price: 18459.587495499985\n",
      "Actual Price: 10325.206 | Predicted Price: 11132.910133100004\n",
      "Actual Price: 12629.1656 | Predicted Price: 12942.762932899976\n",
      "Actual Price: 10795.93733 | Predicted Price: 9019.712598899994\n",
      "Actual Price: 11411.685 | Predicted Price: 11714.301379900024\n",
      "Actual Price: 10600.5483 | Predicted Price: 11107.601335700008\n",
      "Actual Price: 2205.9808 | Predicted Price: 2404.5310865000038\n",
      "Actual Price: 1629.8335 | Predicted Price: 1763.9847560000003\n",
      "Actual Price: 2007.945 | Predicted Price: 2686.6381614000024\n",
      "Actual Price: 29141.3603 | Predicted Price: 28810.66724289999\n"
     ]
    },
    {
     "data": {
      "image/png": "[encoded data removed]",
      "text/plain": [
       "<Figure size 432x288 with 1 Axes>"
      ]
     },
     "metadata": {
      "needs_background": "light"
     },
     "output_type": "display_data"
    }
   ],
   "source": [
    "#Seçilen modelin değerlendirmesi sonucunda gerçek değerler ve tahmin edilen değerlerin arasındaki farkların grafiği\n",
    "final_untouched_data = data[-100:]\n",
    "training_data = data[:-100]\n",
    "\n",
    "feature_final_untouched = final_untouched_data.drop(['charges'], axis= 1)\n",
    "target_final_untouched = final_untouched_data['charges']\n",
    "feature_final_untouched\n",
    "\n",
    "untouched_data_predictions = ran.predict(feature_final_untouched)\n",
    "\n",
    " \n",
    "target_final_untouched = np.array(target_final_untouched)\n",
    "\n",
    "for i in range(len(target_final_untouched)):\n",
    "    print('Actual Price: {} | Predicted Price: {}'.format(target_final_untouched[i], untouched_data_predictions[i]\n",
    "                                                         ))    \n",
    "x = np.arange(1, target_final_untouched.shape[0]+1)\n",
    "\n",
    "plt.plot(x, target_final_untouched, marker='.', color='red')\n",
    "plt.plot(x, untouched_data_predictions, marker='.', color='green')\n",
    "plt.legend(['Actual Data', 'Predicted'])\n",
    "plt.show()"
   ]
  }
 ],
 "metadata": {
  "colab": {
   "authorship_tag": "ABX9TyPsTPu4btxSLeEIqCVDIlEG",
   "collapsed_sections": [],
   "name": "globalaisummercamp.ipynb",
   "provenance": []
  },
  "kernelspec": {
   "display_name": "Python 3",
   "language": "python",
   "name": "python3"
  },
  "language_info": {
   "codemirror_mode": {
    "name": "ipython",
    "version": 3
   },
   "file_extension": ".py",
   "mimetype": "text/x-python",
   "name": "python",
   "nbconvert_exporter": "python",
   "pygments_lexer": "ipython3",
   "version": "3.8.5"
  }
 },
 "nbformat": 4,
 "nbformat_minor": 1
}
